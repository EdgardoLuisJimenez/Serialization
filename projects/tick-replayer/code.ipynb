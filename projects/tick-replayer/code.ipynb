{
 "cells": [
  {
   "cell_type": "code",
   "execution_count": 2,
   "id": "33ccd10b",
   "metadata": {},
   "outputs": [],
   "source": [
    "import pandas as pd\n",
    "import zipfile\n",
    "import os\n",
    "import struct\n",
    "from pathlib import Path"
   ]
  },
  {
   "cell_type": "code",
   "execution_count": 6,
   "id": "2cecf68d",
   "metadata": {},
   "outputs": [
    {
     "data": {
      "text/html": [
       "<div>\n",
       "<style scoped>\n",
       "    .dataframe tbody tr th:only-of-type {\n",
       "        vertical-align: middle;\n",
       "    }\n",
       "\n",
       "    .dataframe tbody tr th {\n",
       "        vertical-align: top;\n",
       "    }\n",
       "\n",
       "    .dataframe thead th {\n",
       "        text-align: right;\n",
       "    }\n",
       "</style>\n",
       "<table border=\"1\" class=\"dataframe\">\n",
       "  <thead>\n",
       "    <tr style=\"text-align: right;\">\n",
       "      <th></th>\n",
       "      <th>5055476813</th>\n",
       "      <th>107146.51000000</th>\n",
       "      <th>0.00160000</th>\n",
       "      <th>171.43441600</th>\n",
       "      <th>1751328000015562</th>\n",
       "      <th>False</th>\n",
       "      <th>True</th>\n",
       "    </tr>\n",
       "  </thead>\n",
       "  <tbody>\n",
       "    <tr>\n",
       "      <th>0</th>\n",
       "      <td>5055476814</td>\n",
       "      <td>107146.5</td>\n",
       "      <td>0.01117</td>\n",
       "      <td>1196.826405</td>\n",
       "      <td>1751328000178512</td>\n",
       "      <td>True</td>\n",
       "      <td>True</td>\n",
       "    </tr>\n",
       "    <tr>\n",
       "      <th>1</th>\n",
       "      <td>5055476815</td>\n",
       "      <td>107146.5</td>\n",
       "      <td>0.00005</td>\n",
       "      <td>5.357325</td>\n",
       "      <td>1751328000178512</td>\n",
       "      <td>True</td>\n",
       "      <td>True</td>\n",
       "    </tr>\n",
       "    <tr>\n",
       "      <th>2</th>\n",
       "      <td>5055476816</td>\n",
       "      <td>107146.5</td>\n",
       "      <td>0.00005</td>\n",
       "      <td>5.357325</td>\n",
       "      <td>1751328000178512</td>\n",
       "      <td>True</td>\n",
       "      <td>True</td>\n",
       "    </tr>\n",
       "    <tr>\n",
       "      <th>3</th>\n",
       "      <td>5055476817</td>\n",
       "      <td>107146.5</td>\n",
       "      <td>0.15328</td>\n",
       "      <td>16423.415520</td>\n",
       "      <td>1751328000178512</td>\n",
       "      <td>True</td>\n",
       "      <td>True</td>\n",
       "    </tr>\n",
       "    <tr>\n",
       "      <th>4</th>\n",
       "      <td>5055476818</td>\n",
       "      <td>107146.5</td>\n",
       "      <td>0.00049</td>\n",
       "      <td>52.501785</td>\n",
       "      <td>1751328000178512</td>\n",
       "      <td>True</td>\n",
       "      <td>True</td>\n",
       "    </tr>\n",
       "  </tbody>\n",
       "</table>\n",
       "</div>"
      ],
      "text/plain": [
       "   5055476813  107146.51000000  0.00160000  171.43441600  1751328000015562  \\\n",
       "0  5055476814         107146.5     0.01117   1196.826405  1751328000178512   \n",
       "1  5055476815         107146.5     0.00005      5.357325  1751328000178512   \n",
       "2  5055476816         107146.5     0.00005      5.357325  1751328000178512   \n",
       "3  5055476817         107146.5     0.15328  16423.415520  1751328000178512   \n",
       "4  5055476818         107146.5     0.00049     52.501785  1751328000178512   \n",
       "\n",
       "   False  True  \n",
       "0   True  True  \n",
       "1   True  True  \n",
       "2   True  True  \n",
       "3   True  True  \n",
       "4   True  True  "
      ]
     },
     "execution_count": 6,
     "metadata": {},
     "output_type": "execute_result"
    }
   ],
   "source": [
    "csv = pd.read_csv(\"./BTCUSDT/2025-07/BTCUSDT-trades-2025-07-01.csv\")\n",
    "csv.head()"
   ]
  },
  {
   "cell_type": "code",
   "execution_count": 3,
   "id": "7706229a",
   "metadata": {},
   "outputs": [],
   "source": [
    "def convertToBoolean(value: str):\n",
    "    return 1 if str(value).lower() in ['true', '1'] else 0"
   ]
  },
  {
   "cell_type": "code",
   "execution_count": null,
   "id": "2d19e2ae",
   "metadata": {},
   "outputs": [
    {
     "name": "stdout",
     "output_type": "stream",
     "text": [
      "BTCUSDT-trades-2025-07-01.zip\n",
      "This is namelist:  ['BTCUSDT-trades-2025-07-01.csv']\n",
      "This is csv:  ['BTCUSDT-trades-2025-07-01.csv']\n",
      "Time:  1751328000015562  Price:  107146.51  QTY:  0.0016  isBuyerMarker:  0\n"
     ]
    }
   ],
   "source": [
    "directory = Path(\"BTCUSDT/raw\")\n",
    "\n",
    "\n",
    "# Price: Operations Prices\n",
    "# QTY: Amount negotiated\n",
    "# Time: Exact time operation\n",
    "# IsBuyerMarker: If the buyer put the ticket first\n",
    "use = {1: 'price', 2: 'qty', 4: 'time', 5: 'isBuyerMaker'}\n",
    "\n",
    "for zip_path in sorted(directory.glob(\"*.zip\")):\n",
    "    print(zip_path.name)\n",
    "\n",
    "    with zipfile.ZipFile(zip_path, 'r') as Z:\n",
    "        print(f\"This is namelist: \", Z.namelist())\n",
    "        csv_names = [n for n in Z.namelist() if n.lower().endswith(\".csv\")]\n",
    "        print(\"This is csv: \", csv_names)\n",
    "        for csv_name in csv_names:\n",
    "            with Z.open(csv_name) as f:\n",
    "                df = pd.read_csv(f, \n",
    "                                 header=None, \n",
    "                                 usecols=list(use),\n",
    "                                 dtype={1: 'float64', 2: 'float64', 4: 'Int64'},\n",
    "                                 converters={5: convertToBoolean}\n",
    "                                 )\n",
    "                df = df.rename(columns=use)[['time', 'price', 'qty', 'isBuyerMaker']]\n",
    "                if not df[\"time\"].is_monotonic_increasing:\n",
    "                    raise ValueError(\"The colummn is not in increasing order\")\n",
    "\n",
    "                for row in df.itertuples():\n",
    "                    print(\"Time: \", row.time, \" Price: \", row.price, \" QTY: \", row.qty, \" isBuyerMarker: \", row.isBuyerMaker)\n",
    "                    break\n",
    "\n",
    "        break       "
   ]
  },
  {
   "cell_type": "code",
   "execution_count": null,
   "id": "c656e64b",
   "metadata": {},
   "outputs": [],
   "source": []
  }
 ],
 "metadata": {
  "kernelspec": {
   "display_name": ".venv (3.12.1)",
   "language": "python",
   "name": "python3"
  },
  "language_info": {
   "codemirror_mode": {
    "name": "ipython",
    "version": 3
   },
   "file_extension": ".py",
   "mimetype": "text/x-python",
   "name": "python",
   "nbconvert_exporter": "python",
   "pygments_lexer": "ipython3",
   "version": "3.12.1"
  }
 },
 "nbformat": 4,
 "nbformat_minor": 5
}
