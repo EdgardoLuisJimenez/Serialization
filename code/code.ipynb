{
 "cells": [
  {
   "cell_type": "code",
   "execution_count": 1,
   "id": "df311aa2",
   "metadata": {},
   "outputs": [
    {
     "name": "stderr",
     "output_type": "stream",
     "text": [
      "/Users/edgardoluisjimenez/Documents/Platzi/python/Serialization/.venv/lib/python3.12/site-packages/google/protobuf/runtime_version.py:98: UserWarning: Protobuf gencode version 5.29.3 is exactly one major version older than the runtime version 6.31.1 at transactions.proto. Please update the gencode to avoid compatibility violations in the next runtime release.\n",
      "  warnings.warn(\n"
     ]
    }
   ],
   "source": [
    "import json\n",
    "import pickle\n",
    "from faker import Faker\n",
    "from dataclasses import dataclass, asdict\n",
    "from datetime import date\n",
    "import time\n",
    "import transactions_pb2 as PBTransactions\n",
    "import pandas as pd\n",
    "import tkinter as tk\n",
    "from pandastable import Table\n",
    "import matplotlib.pyplot as plt"
   ]
  },
  {
   "cell_type": "code",
   "execution_count": 2,
   "id": "8ca9590c",
   "metadata": {},
   "outputs": [],
   "source": [
    "faker = Faker()\n",
    "Faker.seed(12345)"
   ]
  },
  {
   "cell_type": "code",
   "execution_count": 3,
   "id": "659e56d5",
   "metadata": {},
   "outputs": [],
   "source": [
    "# Declaring the structure of the Transactions\n",
    "@dataclass\n",
    "class Transactions():\n",
    "    id: str\n",
    "    sender: str\n",
    "    receiver: str\n",
    "    date: date\n",
    "    amount: float\n",
    "\n",
    "    def to_json(self) -> dict:\n",
    "        raw = asdict(self)\n",
    "\n",
    "        if isinstance(raw.get(\"date\"), date):\n",
    "            raw[\"date\"] = raw[\"date\"].isoformat()\n",
    "\n",
    "        return raw\n",
    "\n",
    "    def to_protob(self) -> PBTransactions.Transactions:\n",
    "        msg = PBTransactions.Transactions()\n",
    "        msg.id = self.id\n",
    "        msg.sender = self.sender\n",
    "        msg.receiver = self.receiver\n",
    "        msg.date.year = self.date.year\n",
    "        msg.date.month = self.date.month\n",
    "        msg.date.day = self.date.day\n",
    "        msg.amount = self.amount\n",
    "\n",
    "        return msg"
   ]
  },
  {
   "cell_type": "code",
   "execution_count": 4,
   "id": "f4ec6409",
   "metadata": {},
   "outputs": [],
   "source": [
    "transactions: list[Transactions] = []\n",
    "ProtobufList = PBTransactions.TransactionsList()\n",
    "\n",
    "for _ in range(100000):\n",
    "    transactions.append(Transactions(id=faker.uuid4(), \n",
    "                     sender=faker.name(), \n",
    "                     receiver=faker.name(), \n",
    "                     date=faker.date_object(), \n",
    "                     amount=faker.pyfloat(min_value=10.0, max_value=100000.0, right_digits=2)))"
   ]
  },
  {
   "cell_type": "code",
   "execution_count": 5,
   "id": "bf3469df",
   "metadata": {},
   "outputs": [],
   "source": [
    "########### Serialization Time\n",
    "t0_json_ser = time.perf_counter()\n",
    "json_data = json.dumps([t.to_json() for t in transactions], indent=2)\n",
    "t1_json_ser = time.perf_counter()\n",
    "\n",
    "t0_pickle_ser = time.perf_counter()\n",
    "pickle_data = pickle.dumps([t.to_json() for t in transactions])\n",
    "t1_pickle_ser = time.perf_counter()\n",
    "\n",
    "t0_proto_ser = time.perf_counter()\n",
    "ProtobufList.transactions.extend(t.to_protob() for t in transactions)\n",
    "proto_bytes = ProtobufList.SerializeToString()\n",
    "t1_proto_ser = time.perf_counter() \n",
    "\n",
    "\n",
    "time_json_ser = ((t1_json_ser - t0_json_ser)*1000)\n",
    "time_pickle_ser = (t1_pickle_ser - t0_pickle_ser)*1000\n",
    "time_proto_ser = (t1_proto_ser - t0_proto_ser)*1000\n",
    "\n",
    "size_json = len(json_data.encode(\"utf-8\"))\n",
    "size_pickle = len(pickle_data)\n",
    "size_proto = len(proto_bytes)\n",
    "\n",
    "########### DeSerialization Time\n",
    "t0_json_des = time.perf_counter()\n",
    "json_data_des = json.loads(json_data)\n",
    "t1_json_des = time.perf_counter()\n",
    "\n",
    "t0_pickle_des = time.perf_counter()\n",
    "pickle_data = pickle.loads(pickle_data)\n",
    "t1_pickle_des = time.perf_counter()\n",
    "\n",
    "t0_proto_des = time.perf_counter()\n",
    "new_transactions = PBTransactions.TransactionsList()\n",
    "new_transactions.ParseFromString(proto_bytes)\n",
    "t1_proto_des = time.perf_counter()\n",
    "\n",
    "time_json_des = (t1_json_des - t0_json_des)*1000\n",
    "time_pickle_des = (t1_pickle_des - t0_pickle_des)*1000\n",
    "time_proto_des = (t1_proto_des - t0_proto_des)*1000"
   ]
  },
  {
   "cell_type": "code",
   "execution_count": 6,
   "id": "f36a3029",
   "metadata": {},
   "outputs": [
    {
     "data": {
      "text/html": [
       "<div>\n",
       "<style scoped>\n",
       "    .dataframe tbody tr th:only-of-type {\n",
       "        vertical-align: middle;\n",
       "    }\n",
       "\n",
       "    .dataframe tbody tr th {\n",
       "        vertical-align: top;\n",
       "    }\n",
       "\n",
       "    .dataframe thead th {\n",
       "        text-align: right;\n",
       "    }\n",
       "</style>\n",
       "<table border=\"1\" class=\"dataframe\">\n",
       "  <thead>\n",
       "    <tr style=\"text-align: right;\">\n",
       "      <th></th>\n",
       "      <th>Serialization Time</th>\n",
       "      <th>Deserialization Time</th>\n",
       "      <th>Serialized file size</th>\n",
       "    </tr>\n",
       "  </thead>\n",
       "  <tbody>\n",
       "    <tr>\n",
       "      <th>JSON</th>\n",
       "      <td>553.268500</td>\n",
       "      <td>50.667208</td>\n",
       "      <td>17223984</td>\n",
       "    </tr>\n",
       "    <tr>\n",
       "      <th>Pickle</th>\n",
       "      <td>338.168875</td>\n",
       "      <td>28.601959</td>\n",
       "      <td>10755700</td>\n",
       "    </tr>\n",
       "    <tr>\n",
       "      <th>Proto Buffer</th>\n",
       "      <td>138.608250</td>\n",
       "      <td>10.969875</td>\n",
       "      <td>8853979</td>\n",
       "    </tr>\n",
       "  </tbody>\n",
       "</table>\n",
       "</div>"
      ],
      "text/plain": [
       "              Serialization Time  Deserialization Time  Serialized file size\n",
       "JSON                  553.268500             50.667208              17223984\n",
       "Pickle                338.168875             28.601959              10755700\n",
       "Proto Buffer          138.608250             10.969875               8853979"
      ]
     },
     "execution_count": 6,
     "metadata": {},
     "output_type": "execute_result"
    }
   ],
   "source": [
    "df_data = pd.DataFrame({\n",
    "    \"Serialization Time\": [time_json_ser, time_pickle_ser, time_proto_ser],\n",
    "    \"Deserialization Time\": [time_json_des, time_pickle_des, time_proto_des],\n",
    "    \"Serialized file size\": [size_json, size_pickle, size_proto]\n",
    "}, index=[\"JSON\", \"Pickle\", \"Proto Buffer\"])\n",
    "\n",
    "df_data"
   ]
  },
  {
   "cell_type": "code",
   "execution_count": 7,
   "id": "807c3fe0",
   "metadata": {},
   "outputs": [],
   "source": [
    "fig, axes = plt.subplots(1, 2, figsize=(9, 3), sharex=False)\n",
    "\n",
    "# Times (grouped)\n",
    "df_data[[\"Serialization Time\", \"Deserialization Time\"]].plot.barh(ax=axes[0])\n",
    "axes[0].set_xlabel(\"Time (ms)\")\n",
    "axes[0].set_ylabel(\"\")\n",
    "axes[0].set_title(\"Serialization & Deserialization\")\n",
    "\n",
    "# Sizes\n",
    "(df_data[\"Serialized file size\"] / 1024).plot.barh(ax=axes[1])\n",
    "axes[1].set_xlabel(\"Size (KB)\")\n",
    "axes[1].set_ylabel(\"\")\n",
    "axes[1].set_title(\"Serialized File Size\")\n",
    "\n",
    "plt.tight_layout()\n",
    "plt.show()"
   ]
  },
  {
   "cell_type": "code",
   "execution_count": null,
   "id": "66aee311",
   "metadata": {},
   "outputs": [],
   "source": []
  },
  {
   "cell_type": "code",
   "execution_count": null,
   "id": "3f3195a3",
   "metadata": {},
   "outputs": [],
   "source": []
  }
 ],
 "metadata": {
  "kernelspec": {
   "display_name": ".venv (3.12.1)",
   "language": "python",
   "name": "python3"
  },
  "language_info": {
   "codemirror_mode": {
    "name": "ipython",
    "version": 3
   },
   "file_extension": ".py",
   "mimetype": "text/x-python",
   "name": "python",
   "nbconvert_exporter": "python",
   "pygments_lexer": "ipython3",
   "version": "3.12.1"
  }
 },
 "nbformat": 4,
 "nbformat_minor": 5
}
